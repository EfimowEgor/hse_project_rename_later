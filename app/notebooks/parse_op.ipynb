{
 "cells": [
  {
   "cell_type": "code",
   "execution_count": 2,
   "metadata": {},
   "outputs": [],
   "source": [
    "import asyncio\n",
    "import requests\n",
    "from bs4 import BeautifulSoup\n",
    "\n",
    "from playwright.async_api import async_playwright"
   ]
  },
  {
   "cell_type": "code",
   "execution_count": 3,
   "metadata": {},
   "outputs": [],
   "source": [
    "root_path = \"https://perm.hse.ru/education/\"\n",
    "\n",
    "bach = \"bachelor\"\n",
    "ms = \"magister\""
   ]
  },
  {
   "cell_type": "code",
   "execution_count": 4,
   "metadata": {},
   "outputs": [],
   "source": [
    "res = requests.get(root_path+bach)"
   ]
  },
  {
   "cell_type": "code",
   "execution_count": 5,
   "metadata": {},
   "outputs": [],
   "source": [
    "soap = BeautifulSoup(res.content, \"html.parser\")"
   ]
  },
  {
   "cell_type": "code",
   "execution_count": 6,
   "metadata": {},
   "outputs": [],
   "source": [
    "programs = {}\n",
    "program_path = \"div.edu-programm__group div.b-row\"\n",
    "\n",
    "data = soap.select(program_path)\n",
    "\n",
    "for div in data:\n",
    "    style = div.get(\"style\", \"\")\n",
    "    if \"display: none\" not in style:\n",
    "        item = div.find(\"a\", {\"class\": \"link\"})\n",
    "\n",
    "        programs[item.text] = item.get(\"href\", \"\") + \"ratings\""
   ]
  },
  {
   "cell_type": "code",
   "execution_count": 7,
   "metadata": {},
   "outputs": [
    {
     "data": {
      "text/plain": [
       "{'Дизайн': 'https://perm.hse.ru/ba/design/ratings',\n",
       " 'Программные системы и автоматизация процессов разработки': 'https://perm.hse.ru/ba/ssadp/ratings',\n",
       " 'Разработка информационных систем для бизнеса': 'https://perm.hse.ru/ba/isystems/ratings',\n",
       " 'Международный бакалавриат по бизнесу и экономике': 'https://perm.hse.ru/ba/interbac/ratings',\n",
       " 'Юриспруденция': 'https://perm.hse.ru/ba/law/ratings',\n",
       " 'Иностранные языки и межкультурная коммуникация в бизнесе': 'https://perm.hse.ru/ba/communication/ratings',\n",
       " 'Бизнес-аналитика': 'https://perm.hse.ru/ma/iaem/ratings',\n",
       " 'Государственное и муниципальное управление': 'https://perm.hse.ru/ma/gmu/ratings',\n",
       " 'Управление развитием бизнеса': 'https://perm.hse.ru/ma/bdm/ratings',\n",
       " 'Финансовые стратегии и аналитика': 'https://perm.hse.ru/ma/fs/ratings',\n",
       " 'ИТ-юрист': 'https://perm.hse.ru/ma/ltlawyer/ratings',\n",
       " 'Правовое обеспечение предпринимательской деятельности': 'https://perm.hse.ru/ma/ls/ratings'}"
      ]
     },
     "execution_count": 7,
     "metadata": {},
     "output_type": "execute_result"
    }
   ],
   "source": [
    "programs"
   ]
  },
  {
   "cell_type": "code",
   "execution_count": 16,
   "metadata": {},
   "outputs": [],
   "source": [
    "def get_all_froms(url):\n",
    "    froms = []\n",
    "    path = \"div.first_child last_child select select[name='from']\"\n",
    "\n",
    "    res = requests.get(url)\n",
    "    soap = BeautifulSoup(res.content, \"html.parser\")\n",
    "\n",
    "    data = soap.select(path)\n",
    "\n",
    "    print(data)\n"
   ]
  },
  {
   "cell_type": "code",
   "execution_count": 13,
   "metadata": {},
   "outputs": [
    {
     "data": {
      "text/plain": [
       "dict_values(['https://perm.hse.ru/ba/design/ratings', 'https://perm.hse.ru/ba/ssadp/ratings', 'https://perm.hse.ru/ba/isystems/ratings', 'https://perm.hse.ru/ba/interbac/ratings', 'https://perm.hse.ru/ba/law/ratings', 'https://perm.hse.ru/ba/communication/ratings', 'https://perm.hse.ru/ma/iaem/ratings', 'https://perm.hse.ru/ma/gmu/ratings', 'https://perm.hse.ru/ma/bdm/ratings', 'https://perm.hse.ru/ma/fs/ratings', 'https://perm.hse.ru/ma/ltlawyer/ratings', 'https://perm.hse.ru/ma/ls/ratings'])"
      ]
     },
     "execution_count": 13,
     "metadata": {},
     "output_type": "execute_result"
    }
   ],
   "source": [
    "for url in programs.values():\n",
    "    "
   ]
  },
  {
   "cell_type": "code",
   "execution_count": null,
   "metadata": {},
   "outputs": [],
   "source": []
  }
 ],
 "metadata": {
  "kernelspec": {
   "display_name": ".venv",
   "language": "python",
   "name": "python3"
  },
  "language_info": {
   "codemirror_mode": {
    "name": "ipython",
    "version": 3
   },
   "file_extension": ".py",
   "mimetype": "text/x-python",
   "name": "python",
   "nbconvert_exporter": "python",
   "pygments_lexer": "ipython3",
   "version": "3.10.7"
  }
 },
 "nbformat": 4,
 "nbformat_minor": 2
}
