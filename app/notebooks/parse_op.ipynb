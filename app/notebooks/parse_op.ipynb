{
 "cells": [
  {
   "cell_type": "code",
   "execution_count": 14,
   "metadata": {},
   "outputs": [],
   "source": [
    "import asyncio\n",
    "import requests\n",
    "from bs4 import BeautifulSoup\n",
    "\n",
    "from playwright.async_api import async_playwright"
   ]
  },
  {
   "cell_type": "code",
   "execution_count": 15,
   "metadata": {},
   "outputs": [],
   "source": [
    "root_path = \"https://perm.hse.ru/education/\"\n",
    "\n",
    "bach = \"bachelor\"\n",
    "ms = \"magister\""
   ]
  },
  {
   "cell_type": "code",
   "execution_count": 17,
   "metadata": {},
   "outputs": [],
   "source": [
    "res = requests.get(root_path+bach)"
   ]
  },
  {
   "cell_type": "code",
   "execution_count": 18,
   "metadata": {},
   "outputs": [],
   "source": [
    "soap = BeautifulSoup(res.content, \"html.parser\")"
   ]
  },
  {
   "cell_type": "code",
   "execution_count": 19,
   "metadata": {},
   "outputs": [],
   "source": [
    "programs = {}\n",
    "program_path = \"div.edu-programm__group div.b-row\"\n",
    "\n",
    "data = soap.select(program_path)\n",
    "\n",
    "for div in data:\n",
    "    style = div.get(\"style\", \"\")\n",
    "    if \"display: none\" not in style:\n",
    "        item = div.find(\"a\", {\"class\": \"link\"})\n",
    "\n",
    "        programs[item.text] = item.get(\"href\", \"\") + \"ratings\""
   ]
  },
  {
   "cell_type": "code",
   "execution_count": 20,
   "metadata": {},
   "outputs": [
    {
     "data": {
      "text/plain": [
       "{'Дизайн': 'https://perm.hse.ru/ba/design/ratings',\n",
       " 'Программные системы и автоматизация процессов разработки': 'https://perm.hse.ru/ba/ssadp/ratings',\n",
       " 'Разработка информационных систем для бизнеса': 'https://perm.hse.ru/ba/isystems/ratings',\n",
       " 'Международный бакалавриат по бизнесу и экономике': 'https://perm.hse.ru/ba/interbac/ratings',\n",
       " 'Юриспруденция': 'https://perm.hse.ru/ba/law/ratings',\n",
       " 'Иностранные языки и межкультурная коммуникация в бизнесе': 'https://perm.hse.ru/ba/communication/ratings',\n",
       " 'Бизнес-аналитика': 'https://perm.hse.ru/ma/iaem/ratings',\n",
       " 'Государственное и муниципальное управление': 'https://perm.hse.ru/ma/gmu/ratings',\n",
       " 'Управление развитием бизнеса': 'https://perm.hse.ru/ma/bdm/ratings',\n",
       " 'Финансовые стратегии и аналитика': 'https://perm.hse.ru/ma/fs/ratings',\n",
       " 'ИТ-юрист': 'https://perm.hse.ru/ma/ltlawyer/ratings',\n",
       " 'Правовое обеспечение предпринимательской деятельности': 'https://perm.hse.ru/ma/ls/ratings'}"
      ]
     },
     "execution_count": 20,
     "metadata": {},
     "output_type": "execute_result"
    }
   ],
   "source": [
    "programs"
   ]
  },
  {
   "cell_type": "code",
   "execution_count": 13,
   "metadata": {},
   "outputs": [
    {
     "ename": "RuntimeError",
     "evalue": "asyncio.run() cannot be called from a running event loop",
     "output_type": "error",
     "traceback": [
      "\u001b[1;31m---------------------------------------------------------------------------\u001b[0m",
      "\u001b[1;31mRuntimeError\u001b[0m                              Traceback (most recent call last)",
      "Cell \u001b[1;32mIn[13], line 47\u001b[0m\n\u001b[0;32m     43\u001b[0m     \u001b[38;5;28mprint\u001b[39m(data)\n\u001b[0;32m     46\u001b[0m \u001b[38;5;28;01mif\u001b[39;00m \u001b[38;5;18m__name__\u001b[39m \u001b[38;5;241m==\u001b[39m \u001b[38;5;124m\"\u001b[39m\u001b[38;5;124m__main__\u001b[39m\u001b[38;5;124m\"\u001b[39m:\n\u001b[1;32m---> 47\u001b[0m     \u001b[43masyncio\u001b[49m\u001b[38;5;241;43m.\u001b[39;49m\u001b[43mrun\u001b[49m\u001b[43m(\u001b[49m\u001b[43mmain\u001b[49m\u001b[43m(\u001b[49m\u001b[43m)\u001b[49m\u001b[43m)\u001b[49m\n",
      "File \u001b[1;32m~\\AppData\\Local\\Programs\\Python\\Python310\\lib\\asyncio\\runners.py:33\u001b[0m, in \u001b[0;36mrun\u001b[1;34m(main, debug)\u001b[0m\n\u001b[0;32m      9\u001b[0m \u001b[38;5;250m\u001b[39m\u001b[38;5;124;03m\"\"\"Execute the coroutine and return the result.\u001b[39;00m\n\u001b[0;32m     10\u001b[0m \n\u001b[0;32m     11\u001b[0m \u001b[38;5;124;03mThis function runs the passed coroutine, taking care of\u001b[39;00m\n\u001b[1;32m   (...)\u001b[0m\n\u001b[0;32m     30\u001b[0m \u001b[38;5;124;03m    asyncio.run(main())\u001b[39;00m\n\u001b[0;32m     31\u001b[0m \u001b[38;5;124;03m\"\"\"\u001b[39;00m\n\u001b[0;32m     32\u001b[0m \u001b[38;5;28;01mif\u001b[39;00m events\u001b[38;5;241m.\u001b[39m_get_running_loop() \u001b[38;5;129;01mis\u001b[39;00m \u001b[38;5;129;01mnot\u001b[39;00m \u001b[38;5;28;01mNone\u001b[39;00m:\n\u001b[1;32m---> 33\u001b[0m     \u001b[38;5;28;01mraise\u001b[39;00m \u001b[38;5;167;01mRuntimeError\u001b[39;00m(\n\u001b[0;32m     34\u001b[0m         \u001b[38;5;124m\"\u001b[39m\u001b[38;5;124masyncio.run() cannot be called from a running event loop\u001b[39m\u001b[38;5;124m\"\u001b[39m)\n\u001b[0;32m     36\u001b[0m \u001b[38;5;28;01mif\u001b[39;00m \u001b[38;5;129;01mnot\u001b[39;00m coroutines\u001b[38;5;241m.\u001b[39miscoroutine(main):\n\u001b[0;32m     37\u001b[0m     \u001b[38;5;28;01mraise\u001b[39;00m \u001b[38;5;167;01mValueError\u001b[39;00m(\u001b[38;5;124m\"\u001b[39m\u001b[38;5;124ma coroutine was expected, got \u001b[39m\u001b[38;5;132;01m{!r}\u001b[39;00m\u001b[38;5;124m\"\u001b[39m\u001b[38;5;241m.\u001b[39mformat(main))\n",
      "\u001b[1;31mRuntimeError\u001b[0m: asyncio.run() cannot be called from a running event loop"
     ]
    }
   ],
   "source": [
    "def get_all_ratings(url: str):\n",
    "    ...\n",
    "\n",
    "def get_all_courses(url: str):\n",
    "    ...\n",
    "\n",
    "# def parse_rating_table(url: str):\n",
    "    \n",
    "\n",
    "#     response = requests.get(url)\n",
    "\n",
    "#     if response.status_code != 200:\n",
    "#         return\n",
    "\n",
    "#     soap = BeautifulSoup(response.content, \"html.parser\")\n",
    "\n",
    "#     selector = \"tr.o\"\n",
    "#     data = soap.select(selector)\n",
    "\n",
    "#     return data\n",
    "\n",
    "async def parse_rating_table(url: str):\n",
    "    async with async_playwright() as p:\n",
    "        browser = await p.chromium.launch(headless=True)  # Запускаем браузер в headless режиме\n",
    "        page = await browser.new_page()\n",
    "\n",
    "        await page.goto(url)\n",
    "\n",
    "        await page.wait_for_selector(\"tr.o\", timeout=10000)  # Ожидаем, что элементы с классом 'o' появятся\n",
    "\n",
    "        html = await page.content()\n",
    "\n",
    "        soup = BeautifulSoup(html, 'html.parser')\n",
    "\n",
    "        data = soup.select(\"tr.o\")\n",
    "\n",
    "        await browser.close()\n",
    "\n",
    "        return data\n",
    "\n",
    "async def main():\n",
    "    data = await parse_rating_table(programs[\"Дизайн\"])\n",
    "    print(data)\n",
    "\n",
    "\n",
    "if __name__ == \"__main__\":\n",
    "    asyncio.run(main())"
   ]
  },
  {
   "cell_type": "code",
   "execution_count": null,
   "metadata": {},
   "outputs": [],
   "source": []
  }
 ],
 "metadata": {
  "kernelspec": {
   "display_name": ".venv",
   "language": "python",
   "name": "python3"
  },
  "language_info": {
   "codemirror_mode": {
    "name": "ipython",
    "version": 3
   },
   "file_extension": ".py",
   "mimetype": "text/x-python",
   "name": "python",
   "nbconvert_exporter": "python",
   "pygments_lexer": "ipython3",
   "version": "3.10.7"
  }
 },
 "nbformat": 4,
 "nbformat_minor": 2
}
